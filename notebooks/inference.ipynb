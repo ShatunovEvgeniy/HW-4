{
 "cells": [
  {
   "cell_type": "code",
   "execution_count": 1,
   "id": "65bed177-0bbb-4f10-8e4d-2852770d6c5b",
   "metadata": {},
   "outputs": [],
   "source": [
    "import os\n",
    "from pathlib import Path\n",
    "\n",
    "import matplotlib.pyplot as plt\n",
    "import numpy as np\n",
    "import torch\n",
    "\n",
    "from src.data.sampling import extract_sample\n",
    "from src.inference import load_model_and_data"
   ]
  },
  {
   "cell_type": "code",
   "execution_count": null,
   "id": "ecca24fa-71fc-4d38-92cd-5e0c847c3079",
   "metadata": {},
   "outputs": [],
   "source": []
  },
  {
   "cell_type": "code",
   "execution_count": 2,
   "id": "9778c2d8-9f1e-49d0-b01a-bbd34de0b279",
   "metadata": {},
   "outputs": [],
   "source": [
    "def visualize_inference(y_hat, target_inds, acc_val, title=\"Inference Results\"):\n",
    "    \"\"\"\n",
    "    Визуализирует результаты инференса, показывая предсказанные и истинные метки.\n",
    "\n",
    "    Args:\n",
    "        y_hat (torch.Tensor): Тензор с предсказанными классами.\n",
    "        target_inds (torch.Tensor): Тензор с истинными метками.\n",
    "        acc_val (float): Точность.\n",
    "        title (str): Заголовок графика.\n",
    "    \"\"\"\n",
    "    y_hat = y_hat.cpu().numpy()  # Move to CPU and convert to NumPy arrays\n",
    "    target_inds = target_inds.cpu().numpy()\n",
    "    n_samples = len(y_hat)\n",
    "\n",
    "    # Create a figure and axes\n",
    "    fig, ax = plt.subplots(figsize=(10, 6))  # Adjust figure size for better visualization\n",
    "\n",
    "    # Create a bar chart\n",
    "    bar_width = 0.4  # Increased bar width for readability\n",
    "    x = np.arange(n_samples)\n",
    "\n",
    "    # Correct predictions in green, incorrect in red\n",
    "    colors = [\"green\" if y_hat[i] == target_inds[i] else \"red\" for i in range(n_samples)]\n",
    "    bars = ax.bar(x, 1, bar_width, bottom=0, color=colors)  # draw a bar for each sample, height is always 1\n",
    "    # Add labels to the bars (pred_label / true_label)\n",
    "    for bar, pred, true in zip(bars, y_hat, target_inds):\n",
    "        yval = bar.get_height()\n",
    "        ax.text(bar.get_x() + bar.get_width() / 2, yval, f\"{pred} / {true}\", ha=\"center\", va=\"bottom\", fontsize=8)\n",
    "\n",
    "    # Customize the plot\n",
    "    ax.set_xlabel(\"Запросные изображения\", fontsize=12)  # Added label\n",
    "    ax.set_ylabel(\"Правильность предсказания\", fontsize=12)\n",
    "    ax.set_title(f\"{title} - Точность: {acc_val:.2f}\", fontsize=14)  # added title\n",
    "    ax.set_xticks([])  # Remove x-axis ticks\n",
    "    ax.set_ylim(0, 1.2)  # Correct height range\n",
    "\n",
    "    # Add a legend\n",
    "    from matplotlib.patches import Patch\n",
    "\n",
    "    legend_elements = [Patch(facecolor=\"green\", label=\"Правильно\"), Patch(facecolor=\"red\", label=\"Неправильно\")]\n",
    "    ax.legend(handles=legend_elements, loc=\"upper right\")\n",
    "    plt.tight_layout()  # Adjust layout to prevent labels from overlapping\n",
    "    plt.show()"
   ]
  },
  {
   "cell_type": "markdown",
   "id": "49110b75-b1e6-4fe8-aafe-431854435f27",
   "metadata": {},
   "source": [
    "# Инференс без SimCLR с лучшей моделью: 5-way, 5-shot, 5-query"
   ]
  },
  {
   "cell_type": "code",
   "execution_count": 16,
   "id": "b311c1c9-c203-449c-aa0b-3a4f382a4949",
   "metadata": {},
   "outputs": [
    {
     "name": "stderr",
     "output_type": "stream",
     "text": [
      "2025-06-03 20:57:11,521 - inference - INFO - Devise is cpu\n",
      "2025-06-03 20:57:11,523 - OmniglotLoader - INFO - Loading training data...\n",
      "2025-06-03 20:57:11,523 - OmniglotLoader - INFO - Loading training data...\n",
      "2025-06-03 20:57:11,623 - OmniglotLoader - INFO - Loading test data...\n",
      "2025-06-03 20:57:11,623 - OmniglotLoader - INFO - Loading test data...\n"
     ]
    }
   ],
   "source": [
    "model_path = Path(os.getcwd()).parent / \"model\" / \"protonet_without_simclr_5-way, 5-shot, 5-query\"\n",
    "model, test_x, test_y = load_model_and_data(model_path)"
   ]
  },
  {
   "cell_type": "code",
   "execution_count": 32,
   "id": "019f91a3-44b2-4c26-a13b-126adc619eb3",
   "metadata": {},
   "outputs": [],
   "source": [
    "n_way = 2\n",
    "n_support = 5\n",
    "n_query = 5"
   ]
  },
  {
   "cell_type": "code",
   "execution_count": 39,
   "id": "1aafd8d4-402c-4c97-b2ee-53f1bf00c317",
   "metadata": {},
   "outputs": [],
   "source": [
    "sample = extract_sample(n_way, n_support, n_query, test_x, test_y)\n",
    "loss, output = model.set_forward_loss(sample)\n",
    "target_inds = torch.arange(0, n_way).view(n_way, 1).expand(n_way, n_query).reshape(-1).to(\"cpu\")"
   ]
  },
  {
   "cell_type": "code",
   "execution_count": 40,
   "id": "72ffb592-a727-4d1b-8b33-e6e1e6e6c7a0",
   "metadata": {},
   "outputs": [
    {
     "data": {
      "image/png": "[encoded data removed]",
      "text/plain": [
       "<Figure size 1000x600 with 1 Axes>"
      ]
     },
     "metadata": {},
     "output_type": "display_data"
    }
   ],
   "source": [
    "y_hat = output[\"y_hat\"]\n",
    "acc_val = output[\"acc\"]\n",
    "\n",
    "visualize_inference(y_hat, target_inds, acc_val)"
   ]
  },
  {
   "cell_type": "markdown",
   "id": "af89813b-abba-46e0-8aa0-8e7e0dc1360d",
   "metadata": {},
   "source": [
    "# Инференс с использованием SimCLR с лучшей моделью: 5-way, 5-shot, 5-query"
   ]
  },
  {
   "cell_type": "code",
   "execution_count": null,
   "id": "160b59fd-7dbf-402e-96d8-05f54756bd81",
   "metadata": {},
   "outputs": [],
   "source": [
    "model_path = Path(os.getcwd()).parent / \"model\" / \"protonet_with_simclr_5-way, 5-shot, 5-query\"\n",
    "model, test_x, test_y = load_model_and_data(model_path)"
   ]
  },
  {
   "cell_type": "code",
   "execution_count": null,
   "id": "9ef7643d-56f0-4d18-856f-54f639b75c94",
   "metadata": {},
   "outputs": [],
   "source": [
    "n_way = 2\n",
    "n_support = 5\n",
    "n_query = 5"
   ]
  },
  {
   "cell_type": "code",
   "execution_count": null,
   "id": "a1b179eb-9988-4bdd-ae12-8d4f51740405",
   "metadata": {},
   "outputs": [],
   "source": [
    "sample = extract_sample(n_way, n_support, n_query, test_x, test_y)\n",
    "loss, output = model.set_forward_loss(sample)\n",
    "target_inds = torch.arange(0, n_way).view(n_way, 1).expand(n_way, n_query).reshape(-1).to(\"cpu\")"
   ]
  },
  {
   "cell_type": "code",
   "execution_count": null,
   "id": "f2eef3a3-9688-485f-b6df-030d8979a399",
   "metadata": {},
   "outputs": [],
   "source": [
    "y_hat = output[\"y_hat\"]\n",
    "acc_val = output[\"acc\"]\n",
    "\n",
    "visualize_inference(y_hat, target_inds, acc_val)"
   ]
  }
 ],
 "metadata": {
  "kernelspec": {
   "display_name": "Python 3 (ipykernel)",
   "language": "python",
   "name": "python3"
  },
  "language_info": {
   "codemirror_mode": {
    "name": "ipython",
    "version": 3
   },
   "file_extension": ".py",
   "mimetype": "text/x-python",
   "name": "python",
   "nbconvert_exporter": "python",
   "pygments_lexer": "ipython3",
   "version": "3.12.3"
  }
 },
 "nbformat": 4,
 "nbformat_minor": 5
}
